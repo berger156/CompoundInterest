{
 "cells": [
  {
   "cell_type": "code",
   "execution_count": 1,
   "metadata": {
    "collapsed": true
   },
   "outputs": [],
   "source": [
    "import matplotlib.pyplot as plt\n",
    "import numpy as np"
   ]
  },
  {
   "cell_type": "code",
   "execution_count": 36,
   "metadata": {
    "collapsed": true
   },
   "outputs": [],
   "source": [
    "import sympy as sp\n",
    "sp.init_printing()"
   ]
  },
  {
   "cell_type": "markdown",
   "metadata": {},
   "source": [
    "## Calculating Compound Interest\n",
    "\n",
    "B = balance  \n",
    "P = principal  \n",
    "r = APR  \n",
    "n = number of compoundings per year  \n",
    "t = number of years  \n",
    "c = contribution per compounding interval  \n",
    "\n",
    "\\begin{equation}\n",
    "B = P\\left(1 + \\frac{r}{n}\\right)^{nt} + c\\frac{\\left[(1 + \\frac{r}{n})^{(nt + 1)} - (1 + \\frac{r}{n})\\right]}{(\\frac{r}{n})}\n",
    "\\end{equation}"
   ]
  },
  {
   "cell_type": "code",
   "execution_count": 42,
   "metadata": {
    "collapsed": true
   },
   "outputs": [],
   "source": [
    "P = 20000\n",
    "APR = .02\n",
    "m = 12\n",
    "r = APR/m\n",
    "c = 1500\n",
    "\n",
    "def balance(principal, contribution, rate, noPeriods):\n",
    "    return principal*(1+rate)**noPeriods + contribution*((1+rate)**(noPeriods + 1) - (1+rate))/rate"
   ]
  },
  {
   "cell_type": "code",
   "execution_count": 43,
   "metadata": {
    "collapsed": false
   },
   "outputs": [
    {
     "data": {
      "text/plain": [
       "116830.23079815248"
      ]
     },
     "execution_count": 43,
     "metadata": {},
     "output_type": "execute_result"
    }
   ],
   "source": [
    "balance(P, c, r, 60)"
   ]
  },
  {
   "cell_type": "code",
   "execution_count": 45,
   "metadata": {
    "collapsed": false
   },
   "outputs": [
    {
     "data": {
      "image/png": "[encoded data removed]",
      "text/plain": [
       "<Figure size 432x288 with 1 Axes>"
      ]
     },
     "metadata": {},
     "output_type": "display_data"
    }
   ],
   "source": [
    "noYears = 5\n",
    "x = np.linspace(0,noYears)\n",
    "plt.plot(x,balance(P, c, r, x*12))\n",
    "plt.plot(x,balance(P, c, r+.02, x*12))\n",
    "plt.xlabel(\"Year\")\n",
    "plt.ylabel(\"Balance ($)\")\n",
    "plt.show()"
   ]
  },
  {
   "cell_type": "code",
   "execution_count": 28,
   "metadata": {
    "collapsed": false
   },
   "outputs": [],
   "source": [
    "class account:\n",
    "    _registry = []\n",
    "    \n",
    "    @classmethod\n",
    "    def listAccounts(cls):\n",
    "        for acct in cls._registry:\n",
    "            print(acct.name)\n",
    "            \n",
    "    @classmethod\n",
    "    def plotAccounts(cls, noYears):\n",
    "        t = np.linspace(0, noYears)\n",
    "        for acct in cls._registry:\n",
    "            plt.plot(t, acct.calcBalance)\n",
    "            \n",
    "    numberOfAccounts = 0\n",
    "    \n",
    "    acctTypes = ('savings','investment')\n",
    "    \n",
    "    def __init__(self, name, accountType, principal, APR, APRvar, compPerYear, contribution, contPerYear):\n",
    "        \n",
    "        self.name = name\n",
    "        self.accountType = accountType\n",
    "        self.principal = principal\n",
    "        self.APR = APR\n",
    "        self.APRvar = APRvar\n",
    "        self.compPerYear = compPerYear #number of compounding periods per year\n",
    "        self.contribution = contribution\n",
    "        self.contPerYear = contPerYear #number of contributions per year\n",
    "        \n",
    "        if accountType not in self.acctTypes:\n",
    "            raise ValueError(\"%s is not a valid account type.\" % accountType)\n",
    "        \n",
    "        if (principal < 0):\n",
    "            raise ValueError(\"Principal must be a positive number\")\n",
    "        \n",
    "        self._registry.append(self)\n",
    "        type(self).numberOfAccounts += 1\n",
    "    \n",
    "    def __del__(self):\n",
    "        self._registry.insert(0,self)\n",
    "        if type(self).numberOfAccounts > 0:\n",
    "            type(self).numberOfAccounts -= 1\n",
    "        \n",
    "    def calcBalance(self,noYears,variance=0):\n",
    "        P = self.principal\n",
    "        r = (self.APR + variance)/100\n",
    "        n = self.compPerYear\n",
    "        t = noYears\n",
    "        c = self.contribution*self.contPerYear/self.compPerYear\n",
    "        \n",
    "        balance = P*(1 + r/n)**(n*t) + c*((1 + r/n)**(n*t + 1) - (1 + r/n))/(r/n)\n",
    "        \n",
    "        return balance\n",
    "    \n",
    "    def plotAccount(self,noYears):\n",
    "        t = np.linspace(0, noYears)\n",
    "        \n",
    "        accountGraph = plt.figure()\n",
    "        \n",
    "        plt.plot(t, self.calcBalance(t))\n",
    "        plt.xlabel(\"Years\")\n",
    "        plt.ylabel(\"Balance ($)\")\n",
    "        \n",
    "        if(self.APRvar != 0):\n",
    "            plt.plot(t, self.calcBalance(t, self.APRvar),linestyle='dashed')\n",
    "            plt.plot(t, self.calcBalance(t, -self.APRvar),linestyle='dashed')\n",
    "            plt.legend(('nominal','best case','worst case'))\n",
    "         \n",
    "        #plt.show()\n",
    "        return accountGraph"
   ]
  },
  {
   "cell_type": "code",
   "execution_count": 16,
   "metadata": {
    "collapsed": true
   },
   "outputs": [
    {
     "ename": "ValueError",
     "evalue": "checking is not a valid account type.",
     "output_type": "error",
     "traceback": [
      "\u001b[0;31m--------------------------------------------------------------\u001b[0m",
      "\u001b[0;31mValueError\u001b[0m                   Traceback (most recent call last)",
      "\u001b[0;32m<ipython-input-16-d9d9fd255189>\u001b[0m in \u001b[0;36m<module>\u001b[0;34m()\u001b[0m\n\u001b[0;32m----> 1\u001b[0;31m \u001b[0mtest\u001b[0m \u001b[1;33m=\u001b[0m \u001b[0maccount\u001b[0m\u001b[1;33m(\u001b[0m\u001b[1;34m\"test\"\u001b[0m\u001b[1;33m,\u001b[0m\u001b[1;34m\"checking\"\u001b[0m\u001b[1;33m,\u001b[0m \u001b[1;36m0\u001b[0m\u001b[1;33m,\u001b[0m \u001b[1;36m0\u001b[0m\u001b[1;33m,\u001b[0m \u001b[1;36m0\u001b[0m\u001b[1;33m,\u001b[0m \u001b[1;36m0\u001b[0m\u001b[1;33m,\u001b[0m \u001b[1;36m500\u001b[0m\u001b[1;33m,\u001b[0m \u001b[1;36m26\u001b[0m\u001b[1;33m)\u001b[0m\u001b[1;33m\u001b[0m\u001b[0m\n\u001b[0m",
      "\u001b[0;32m<ipython-input-15-2aef4cd09e64>\u001b[0m in \u001b[0;36m__init__\u001b[0;34m(self, name, accountType, principal, APR, APRvar, compPerYear, contribution, contPerYear)\u001b[0m\n\u001b[1;32m     29\u001b[0m \u001b[1;33m\u001b[0m\u001b[0m\n\u001b[1;32m     30\u001b[0m         \u001b[1;32mif\u001b[0m \u001b[0maccountType\u001b[0m \u001b[1;32mnot\u001b[0m \u001b[1;32min\u001b[0m \u001b[0mself\u001b[0m\u001b[1;33m.\u001b[0m\u001b[0macctTypes\u001b[0m\u001b[1;33m:\u001b[0m\u001b[1;33m\u001b[0m\u001b[0m\n\u001b[0;32m---> 31\u001b[0;31m             \u001b[1;32mraise\u001b[0m \u001b[0mValueError\u001b[0m\u001b[1;33m(\u001b[0m\u001b[1;34m\"%s is not a valid account type.\"\u001b[0m \u001b[1;33m%\u001b[0m \u001b[0maccountType\u001b[0m\u001b[1;33m)\u001b[0m\u001b[1;33m\u001b[0m\u001b[0m\n\u001b[0m\u001b[1;32m     32\u001b[0m \u001b[1;33m\u001b[0m\u001b[0m\n\u001b[1;32m     33\u001b[0m         \u001b[1;32mif\u001b[0m \u001b[1;33m(\u001b[0m\u001b[0mprincipal\u001b[0m \u001b[1;33m<\u001b[0m \u001b[1;36m0\u001b[0m\u001b[1;33m)\u001b[0m\u001b[1;33m:\u001b[0m\u001b[1;33m\u001b[0m\u001b[0m\n",
      "\u001b[0;31mValueError\u001b[0m: checking is not a valid account type."
     ]
    }
   ],
   "source": [
    "test = account(\"test\",\"checking\", 0, 0, 0, 0, 500, 26)"
   ]
  },
  {
   "cell_type": "code",
   "execution_count": 17,
   "metadata": {
    "collapsed": true
   },
   "outputs": [
    {
     "ename": "ValueError",
     "evalue": "Principal must be a positive number",
     "output_type": "error",
     "traceback": [
      "\u001b[0;31m--------------------------------------------------------------\u001b[0m",
      "\u001b[0;31mValueError\u001b[0m                   Traceback (most recent call last)",
      "\u001b[0;32m<ipython-input-17-29221a032464>\u001b[0m in \u001b[0;36m<module>\u001b[0;34m()\u001b[0m\n\u001b[0;32m----> 1\u001b[0;31m \u001b[0mtest\u001b[0m \u001b[1;33m=\u001b[0m \u001b[0maccount\u001b[0m\u001b[1;33m(\u001b[0m\u001b[1;34m\"test\"\u001b[0m\u001b[1;33m,\u001b[0m\u001b[1;34m\"savings\"\u001b[0m\u001b[1;33m,\u001b[0m \u001b[1;33m-\u001b[0m\u001b[1;36m10\u001b[0m\u001b[1;33m,\u001b[0m \u001b[1;36m0\u001b[0m\u001b[1;33m,\u001b[0m \u001b[1;36m0\u001b[0m\u001b[1;33m,\u001b[0m \u001b[1;36m0\u001b[0m\u001b[1;33m,\u001b[0m \u001b[1;36m100\u001b[0m\u001b[1;33m,\u001b[0m \u001b[1;34m'weekly'\u001b[0m\u001b[1;33m)\u001b[0m\u001b[1;33m\u001b[0m\u001b[0m\n\u001b[0m",
      "\u001b[0;32m<ipython-input-15-2aef4cd09e64>\u001b[0m in \u001b[0;36m__init__\u001b[0;34m(self, name, accountType, principal, APR, APRvar, compPerYear, contribution, contPerYear)\u001b[0m\n\u001b[1;32m     32\u001b[0m \u001b[1;33m\u001b[0m\u001b[0m\n\u001b[1;32m     33\u001b[0m         \u001b[1;32mif\u001b[0m \u001b[1;33m(\u001b[0m\u001b[0mprincipal\u001b[0m \u001b[1;33m<\u001b[0m \u001b[1;36m0\u001b[0m\u001b[1;33m)\u001b[0m\u001b[1;33m:\u001b[0m\u001b[1;33m\u001b[0m\u001b[0m\n\u001b[0;32m---> 34\u001b[0;31m             \u001b[1;32mraise\u001b[0m \u001b[0mValueError\u001b[0m\u001b[1;33m(\u001b[0m\u001b[1;34m\"Principal must be a positive number\"\u001b[0m\u001b[1;33m)\u001b[0m\u001b[1;33m\u001b[0m\u001b[0m\n\u001b[0m\u001b[1;32m     35\u001b[0m \u001b[1;33m\u001b[0m\u001b[0m\n\u001b[1;32m     36\u001b[0m         \u001b[0mself\u001b[0m\u001b[1;33m.\u001b[0m\u001b[0m_registry\u001b[0m\u001b[1;33m.\u001b[0m\u001b[0mappend\u001b[0m\u001b[1;33m(\u001b[0m\u001b[0mself\u001b[0m\u001b[1;33m)\u001b[0m\u001b[1;33m\u001b[0m\u001b[0m\n",
      "\u001b[0;31mValueError\u001b[0m: Principal must be a positive number"
     ]
    }
   ],
   "source": [
    "test = account(\"test\",\"savings\", -10, 0, 0, 0, 100, 'weekly')"
   ]
  },
  {
   "cell_type": "code",
   "execution_count": 29,
   "metadata": {
    "collapsed": false
   },
   "outputs": [
    {
     "data": {
      "text/plain": [
       "2"
      ]
     },
     "execution_count": 29,
     "metadata": {},
     "output_type": "execute_result"
    }
   ],
   "source": [
    "CapOne = account(\"CapOne\", \"savings\", 20000, 2, 0, 12, 1500, 12)\n",
    "Betterment = account(\"Betterment\", \"investment\", 20000, 7, 0.25, 12, 750, 26)\n",
    "account.numberOfAccounts"
   ]
  },
  {
   "cell_type": "code",
   "execution_count": 8,
   "metadata": {
    "collapsed": true
   },
   "outputs": [],
   "source": [
    "del Betterment"
   ]
  },
  {
   "cell_type": "code",
   "execution_count": 18,
   "metadata": {
    "collapsed": false
   },
   "outputs": [
    {
     "data": {
      "text/plain": [
       "0"
      ]
     },
     "execution_count": 18,
     "metadata": {},
     "output_type": "execute_result"
    }
   ],
   "source": [
    "account.numberOfAccounts"
   ]
  },
  {
   "cell_type": "code",
   "execution_count": 4,
   "metadata": {
    "collapsed": false
   },
   "outputs": [
    {
     "name": "stdout",
     "output_type": "stream",
     "text": [
      "CapOne\n",
      "Betterment\n"
     ]
    }
   ],
   "source": [
    "for a in account._registry:\n",
    "    print(a.name)"
   ]
  },
  {
   "cell_type": "code",
   "execution_count": 5,
   "metadata": {
    "collapsed": false
   },
   "outputs": [
    {
     "name": "stdout",
     "output_type": "stream",
     "text": [
      "CapOne\n",
      "Betterment\n"
     ]
    }
   ],
   "source": [
    "account.listAccounts()"
   ]
  },
  {
   "cell_type": "code",
   "execution_count": 22,
   "metadata": {
    "collapsed": false
   },
   "outputs": [
    {
     "data": {
      "text/plain": [
       "2"
      ]
     },
     "execution_count": 22,
     "metadata": {},
     "output_type": "execute_result"
    }
   ],
   "source": [
    "CapOne.APR"
   ]
  },
  {
   "cell_type": "code",
   "execution_count": 31,
   "metadata": {
    "collapsed": false
   },
   "outputs": [
    {
     "data": {
      "text/plain": [
       "116830.23079815248"
      ]
     },
     "execution_count": 31,
     "metadata": {},
     "output_type": "execute_result"
    }
   ],
   "source": [
    "CapOne.calcBalance(5)"
   ]
  },
  {
   "cell_type": "code",
   "execution_count": 10,
   "metadata": {
    "collapsed": false
   },
   "outputs": [
    {
     "data": {
      "image/png": "[encoded data removed]",
      "text/plain": [
       "<Figure size 432x288 with 1 Axes>"
      ]
     },
     "execution_count": 10,
     "metadata": {},
     "output_type": "execute_result"
    }
   ],
   "source": [
    "CapOne.plotAccount(5)"
   ]
  },
  {
   "cell_type": "code",
   "execution_count": 35,
   "metadata": {
    "collapsed": false
   },
   "outputs": [
    {
     "data": {
      "image/png": "[encoded data removed]",
      "text/plain": [
       "<Figure size 432x288 with 1 Axes>"
      ]
     },
     "execution_count": 35,
     "metadata": {},
     "output_type": "execute_result"
    }
   ],
   "source": [
    "Betterment.plotAccount(37)"
   ]
  },
  {
   "cell_type": "markdown",
   "metadata": {},
   "source": [
    "## Next steps\n",
    "* [ ] stack multiple accounts\n",
    "* [ ] group accounts by type\n",
    "* [ ] add graph cursor"
   ]
  },
  {
   "cell_type": "code",
   "execution_count": 34,
   "metadata": {
    "collapsed": false
   },
   "outputs": [
    {
     "name": "stdout",
     "output_type": "stream",
     "text": [
      "3691355.077923718\n",
      "3035707.332281263\n"
     ]
    }
   ],
   "source": [
    "print(Betterment.calcBalance(37))\n",
    "print(Betterment.calcBalance(37,-0.75))"
   ]
  },
  {
   "cell_type": "code",
   "execution_count": null,
   "metadata": {
    "collapsed": true
   },
   "outputs": [],
   "source": []
  }
 ],
 "metadata": {
  "kernelspec": {
   "display_name": "Python 3",
   "language": "python",
   "name": "python3"
  },
  "language_info": {
   "codemirror_mode": {
    "name": "ipython",
    "version": 3
   },
   "file_extension": ".py",
   "mimetype": "text/x-python",
   "name": "python",
   "nbconvert_exporter": "python",
   "pygments_lexer": "ipython3",
   "version": "3.6.0"
  }
 },
 "nbformat": 4,
 "nbformat_minor": 2
}
